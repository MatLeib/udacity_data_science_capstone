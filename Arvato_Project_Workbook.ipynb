{
 "cells": [
  {
   "cell_type": "markdown",
   "metadata": {},
   "source": [
    "# Capstone Project: Create a Customer Segmentation Report for Arvato Financial Services\n",
    "\n",
    "In this project, you will analyze demographics data for customers of a mail-order sales company in Germany, comparing it against demographics information for the general population. You'll use unsupervised learning techniques to perform customer segmentation, identifying the parts of the population that best describe the core customer base of the company. Then, you'll apply what you've learned on a third dataset with demographics information for targets of a marketing campaign for the company, and use a model to predict which individuals are most likely to convert into becoming customers for the company. The data that you will use has been provided by our partners at Bertelsmann Arvato Analytics, and represents a real-life data science task.\n",
    "\n",
    "If you completed the first term of this program, you will be familiar with the first part of this project, from the unsupervised learning project. The versions of those two datasets used in this project will include many more features and has not been pre-cleaned. You are also free to choose whatever approach you'd like to analyzing the data rather than follow pre-determined steps. In your work on this project, make sure that you carefully document your steps and decisions, since your main deliverable for this project will be a blog post reporting your findings."
   ]
  },
  {
   "cell_type": "code",
   "execution_count": 68,
   "metadata": {},
   "outputs": [],
   "source": [
    "# Importing libraries\n",
    "import time\n",
    "import numpy as np\n",
    "import pandas as pd\n",
    "import matplotlib.pyplot as plt\n",
    "import seaborn as sns\n",
    "sns.set(palette=\"tab10\")\n",
    "\n",
    "from sklearn.preprocessing import StandardScaler, MinMaxScaler\n",
    "from sklearn.decomposition import PCA\n",
    "from sklearn.cluster import KMeans, MiniBatchKMeans\n",
    "\n",
    "from sklearn.model_selection import GridSearchCV, cross_val_score\n",
    "from sklearn.ensemble import RandomForestClassifier, GradientBoostingClassifier\n",
    "from sklearn.linear_model import LogisticRegression\n",
    "from sklearn.pipeline import Pipeline\n",
    "\n",
    "# Magic word for producing visualizations in notebook\n",
    "%matplotlib inline"
   ]
  },
  {
   "cell_type": "markdown",
   "metadata": {},
   "source": [
    "## Part 0: Get to Know the Data\n",
    "\n",
    "There are four data files associated with this project:\n",
    "\n",
    "- `Udacity_AZDIAS_052018.csv`: Demographics data for the general population of Germany; 891 211 persons (rows) x 366 features (columns).\n",
    "- `Udacity_CUSTOMERS_052018.csv`: Demographics data for customers of a mail-order company; 191 652 persons (rows) x 369 features (columns).\n",
    "- `Udacity_MAILOUT_052018_TRAIN.csv`: Demographics data for individuals who were targets of a marketing campaign; 42 982 persons (rows) x 367 (columns).\n",
    "- `Udacity_MAILOUT_052018_TEST.csv`: Demographics data for individuals who were targets of a marketing campaign; 42 833 persons (rows) x 366 (columns).\n",
    "\n",
    "Each row of the demographics files represents a single person, but also includes information outside of individuals, including information about their household, building, and neighborhood. Use the information from the first two files to figure out how customers (\"CUSTOMERS\") are similar to or differ from the general population at large (\"AZDIAS\"), then use your analysis to make predictions on the other two files (\"MAILOUT\"), predicting which recipients are most likely to become a customer for the mail-order company.\n",
    "\n",
    "The \"CUSTOMERS\" file contains three extra columns ('CUSTOMER_GROUP', 'ONLINE_PURCHASE', and 'PRODUCT_GROUP'), which provide broad information about the customers depicted in the file. The original \"MAILOUT\" file included one additional column, \"RESPONSE\", which indicated whether or not each recipient became a customer of the company. For the \"TRAIN\" subset, this column has been retained, but in the \"TEST\" subset it has been removed; it is against that withheld column that your final predictions will be assessed in the Kaggle competition.\n",
    "\n",
    "Otherwise, all of the remaining columns are the same between the three data files. For more information about the columns depicted in the files, you can refer to two Excel spreadsheets provided in the workspace. [One of them](./data/DIAS Information Levels - Attributes 2017.xlsx) is a top-level list of attributes and descriptions, organized by informational category. [The other](./data/DIAS Attributes - Values 2017.xlsx) is a detailed mapping of data values for each feature in alphabetical order.\n",
    "\n",
    "In the below cell, we've provided some initial code to load in the first two datasets. Note for all of the `.csv` data files in this project that they're semicolon (`;`) delimited, so an additional argument in the [`read_csv()`](https://pandas.pydata.org/pandas-docs/stable/generated/pandas.read_csv.html) call has been included to read in the data properly. Also, considering the size of the datasets, it may take some time for them to load completely.\n",
    "\n",
    "You'll notice when the data is loaded in that a warning message will immediately pop up. Before you really start digging into the modeling and analysis, you're going to need to perform some cleaning. Take some time to browse the structure of the data and look over the informational spreadsheets to understand the data values. Make some decisions on which features to keep, which features to drop, and if any revisions need to be made on data formats. It'll be a good idea to create a function with pre-processing steps, since you'll need to clean all of the datasets before you work with them."
   ]
  },
  {
   "cell_type": "markdown",
   "metadata": {},
   "source": [
    "### Loading data"
   ]
  },
  {
   "cell_type": "code",
   "execution_count": 2,
   "metadata": {},
   "outputs": [],
   "source": [
    "# # Loading the data\n",
    "# type_dict = {'CAMEO_DEUG_2015': str, 'CAMEO_INTL_2015': str}\n",
    "# azdias = pd.read_csv('../../data/Term2/capstone/arvato_data/Udacity_AZDIAS_052018.csv', sep=';', dtype=type_dict)\n",
    "# customers = pd.read_csv('../../data/Term2/capstone/arvato_data/Udacity_CUSTOMERS_052018.csv', sep=';', dtype=type_dict)\n",
    "\n",
    "# # Writing complete data to pickle files\n",
    "# azdias.to_pickle(\"./data/azdias_complete.pkl\")  \n",
    "# customers.to_pickle(\"./data/customer_complete.pkl\")  \n",
    "\n",
    "# # Creating sample data\n",
    "# azdias_sample = azdias.sample(int(azdias.shape[0]*0.1))\n",
    "# customer_sample = customers.sample(int(customers.shape[0]*0.5))\n",
    "\n",
    "# # Writing sample data to pickle files\n",
    "# azdias_sample.to_pickle(\"./data/azdias_sample.pkl\")  \n",
    "# customer_sample.to_pickle(\"./data/customer_sample.pkl\")  "
   ]
  },
  {
   "cell_type": "code",
   "execution_count": 3,
   "metadata": {},
   "outputs": [],
   "source": [
    "# Reading sample data from pickle files\n",
    "azdias = pd.read_pickle(\"./data/azdias_complete.pkl\")\n",
    "customers = pd.read_pickle(\"./data/customer_complete.pkl\")"
   ]
  },
  {
   "cell_type": "code",
   "execution_count": 4,
   "metadata": {},
   "outputs": [],
   "source": [
    "# Loading dias attributes, that have detailed mapping of data values\n",
    "list_attributes = pd.read_csv('./data/dias_attributes.csv', header=None).iloc[0,:].tolist()"
   ]
  },
  {
   "cell_type": "markdown",
   "metadata": {},
   "source": [
    "### Exploring data"
   ]
  },
  {
   "cell_type": "markdown",
   "metadata": {},
   "source": [
    "**Shape of data and preview**"
   ]
  },
  {
   "cell_type": "code",
   "execution_count": 5,
   "metadata": {},
   "outputs": [
    {
     "data": {
      "text/plain": [
       "((891221, 366), (191652, 369))"
      ]
     },
     "execution_count": 5,
     "metadata": {},
     "output_type": "execute_result"
    }
   ],
   "source": [
    "# Showing number of columns and rows\n",
    "azdias.shape, customers.shape"
   ]
  },
  {
   "cell_type": "code",
   "execution_count": 6,
   "metadata": {},
   "outputs": [],
   "source": [
    "# Dropping customers extra columns (not relevant for further steps)\n",
    "customers.drop(['PRODUCT_GROUP', 'CUSTOMER_GROUP', 'ONLINE_PURCHASE'], axis=1, inplace=True)"
   ]
  },
  {
   "cell_type": "code",
   "execution_count": 7,
   "metadata": {},
   "outputs": [
    {
     "data": {
      "text/plain": [
       "((891221, 366), (191652, 366))"
      ]
     },
     "execution_count": 7,
     "metadata": {},
     "output_type": "execute_result"
    }
   ],
   "source": [
    "# Showing number of columns and rows\n",
    "azdias.shape, customers.shape"
   ]
  },
  {
   "cell_type": "code",
   "execution_count": 8,
   "metadata": {},
   "outputs": [
    {
     "data": {
      "text/html": [
       "<div>\n",
       "<style scoped>\n",
       "    .dataframe tbody tr th:only-of-type {\n",
       "        vertical-align: middle;\n",
       "    }\n",
       "\n",
       "    .dataframe tbody tr th {\n",
       "        vertical-align: top;\n",
       "    }\n",
       "\n",
       "    .dataframe thead th {\n",
       "        text-align: right;\n",
       "    }\n",
       "</style>\n",
       "<table border=\"1\" class=\"dataframe\">\n",
       "  <thead>\n",
       "    <tr style=\"text-align: right;\">\n",
       "      <th></th>\n",
       "      <th>LNR</th>\n",
       "      <th>AGER_TYP</th>\n",
       "      <th>AKT_DAT_KL</th>\n",
       "      <th>ALTER_HH</th>\n",
       "      <th>ALTER_KIND1</th>\n",
       "      <th>ALTER_KIND2</th>\n",
       "      <th>ALTER_KIND3</th>\n",
       "      <th>ALTER_KIND4</th>\n",
       "      <th>ALTERSKATEGORIE_FEIN</th>\n",
       "      <th>ANZ_HAUSHALTE_AKTIV</th>\n",
       "      <th>...</th>\n",
       "      <th>VHN</th>\n",
       "      <th>VK_DHT4A</th>\n",
       "      <th>VK_DISTANZ</th>\n",
       "      <th>VK_ZG11</th>\n",
       "      <th>W_KEIT_KIND_HH</th>\n",
       "      <th>WOHNDAUER_2008</th>\n",
       "      <th>WOHNLAGE</th>\n",
       "      <th>ZABEOTYP</th>\n",
       "      <th>ANREDE_KZ</th>\n",
       "      <th>ALTERSKATEGORIE_GROB</th>\n",
       "    </tr>\n",
       "  </thead>\n",
       "  <tbody>\n",
       "    <tr>\n",
       "      <th>0</th>\n",
       "      <td>910215</td>\n",
       "      <td>-1</td>\n",
       "      <td>NaN</td>\n",
       "      <td>NaN</td>\n",
       "      <td>NaN</td>\n",
       "      <td>NaN</td>\n",
       "      <td>NaN</td>\n",
       "      <td>NaN</td>\n",
       "      <td>NaN</td>\n",
       "      <td>NaN</td>\n",
       "      <td>...</td>\n",
       "      <td>NaN</td>\n",
       "      <td>NaN</td>\n",
       "      <td>NaN</td>\n",
       "      <td>NaN</td>\n",
       "      <td>NaN</td>\n",
       "      <td>NaN</td>\n",
       "      <td>NaN</td>\n",
       "      <td>3</td>\n",
       "      <td>1</td>\n",
       "      <td>2</td>\n",
       "    </tr>\n",
       "    <tr>\n",
       "      <th>1</th>\n",
       "      <td>910220</td>\n",
       "      <td>-1</td>\n",
       "      <td>9.0</td>\n",
       "      <td>0.0</td>\n",
       "      <td>NaN</td>\n",
       "      <td>NaN</td>\n",
       "      <td>NaN</td>\n",
       "      <td>NaN</td>\n",
       "      <td>21.0</td>\n",
       "      <td>11.0</td>\n",
       "      <td>...</td>\n",
       "      <td>4.0</td>\n",
       "      <td>8.0</td>\n",
       "      <td>11.0</td>\n",
       "      <td>10.0</td>\n",
       "      <td>3.0</td>\n",
       "      <td>9.0</td>\n",
       "      <td>4.0</td>\n",
       "      <td>5</td>\n",
       "      <td>2</td>\n",
       "      <td>1</td>\n",
       "    </tr>\n",
       "  </tbody>\n",
       "</table>\n",
       "<p>2 rows × 366 columns</p>\n",
       "</div>"
      ],
      "text/plain": [
       "      LNR  AGER_TYP  AKT_DAT_KL  ALTER_HH  ALTER_KIND1  ALTER_KIND2  \\\n",
       "0  910215        -1         NaN       NaN          NaN          NaN   \n",
       "1  910220        -1         9.0       0.0          NaN          NaN   \n",
       "\n",
       "   ALTER_KIND3  ALTER_KIND4  ALTERSKATEGORIE_FEIN  ANZ_HAUSHALTE_AKTIV  ...  \\\n",
       "0          NaN          NaN                   NaN                  NaN  ...   \n",
       "1          NaN          NaN                  21.0                 11.0  ...   \n",
       "\n",
       "   VHN  VK_DHT4A  VK_DISTANZ  VK_ZG11  W_KEIT_KIND_HH  WOHNDAUER_2008  \\\n",
       "0  NaN       NaN         NaN      NaN             NaN             NaN   \n",
       "1  4.0       8.0        11.0     10.0             3.0             9.0   \n",
       "\n",
       "   WOHNLAGE ZABEOTYP ANREDE_KZ ALTERSKATEGORIE_GROB  \n",
       "0       NaN        3         1                    2  \n",
       "1       4.0        5         2                    1  \n",
       "\n",
       "[2 rows x 366 columns]"
      ]
     },
     "execution_count": 8,
     "metadata": {},
     "output_type": "execute_result"
    }
   ],
   "source": [
    "# Data Preview\n",
    "azdias.head(2)"
   ]
  },
  {
   "cell_type": "code",
   "execution_count": 9,
   "metadata": {},
   "outputs": [
    {
     "data": {
      "text/html": [
       "<div>\n",
       "<style scoped>\n",
       "    .dataframe tbody tr th:only-of-type {\n",
       "        vertical-align: middle;\n",
       "    }\n",
       "\n",
       "    .dataframe tbody tr th {\n",
       "        vertical-align: top;\n",
       "    }\n",
       "\n",
       "    .dataframe thead th {\n",
       "        text-align: right;\n",
       "    }\n",
       "</style>\n",
       "<table border=\"1\" class=\"dataframe\">\n",
       "  <thead>\n",
       "    <tr style=\"text-align: right;\">\n",
       "      <th></th>\n",
       "      <th>LNR</th>\n",
       "      <th>AGER_TYP</th>\n",
       "      <th>AKT_DAT_KL</th>\n",
       "      <th>ALTER_HH</th>\n",
       "      <th>ALTER_KIND1</th>\n",
       "      <th>ALTER_KIND2</th>\n",
       "      <th>ALTER_KIND3</th>\n",
       "      <th>ALTER_KIND4</th>\n",
       "      <th>ALTERSKATEGORIE_FEIN</th>\n",
       "      <th>ANZ_HAUSHALTE_AKTIV</th>\n",
       "      <th>...</th>\n",
       "      <th>VHN</th>\n",
       "      <th>VK_DHT4A</th>\n",
       "      <th>VK_DISTANZ</th>\n",
       "      <th>VK_ZG11</th>\n",
       "      <th>W_KEIT_KIND_HH</th>\n",
       "      <th>WOHNDAUER_2008</th>\n",
       "      <th>WOHNLAGE</th>\n",
       "      <th>ZABEOTYP</th>\n",
       "      <th>ANREDE_KZ</th>\n",
       "      <th>ALTERSKATEGORIE_GROB</th>\n",
       "    </tr>\n",
       "  </thead>\n",
       "  <tbody>\n",
       "    <tr>\n",
       "      <th>0</th>\n",
       "      <td>9626</td>\n",
       "      <td>2</td>\n",
       "      <td>1.0</td>\n",
       "      <td>10.0</td>\n",
       "      <td>NaN</td>\n",
       "      <td>NaN</td>\n",
       "      <td>NaN</td>\n",
       "      <td>NaN</td>\n",
       "      <td>10.0</td>\n",
       "      <td>1.0</td>\n",
       "      <td>...</td>\n",
       "      <td>3.0</td>\n",
       "      <td>5.0</td>\n",
       "      <td>3.0</td>\n",
       "      <td>2.0</td>\n",
       "      <td>6.0</td>\n",
       "      <td>9.0</td>\n",
       "      <td>7.0</td>\n",
       "      <td>3</td>\n",
       "      <td>1</td>\n",
       "      <td>4</td>\n",
       "    </tr>\n",
       "    <tr>\n",
       "      <th>1</th>\n",
       "      <td>9628</td>\n",
       "      <td>-1</td>\n",
       "      <td>9.0</td>\n",
       "      <td>11.0</td>\n",
       "      <td>NaN</td>\n",
       "      <td>NaN</td>\n",
       "      <td>NaN</td>\n",
       "      <td>NaN</td>\n",
       "      <td>NaN</td>\n",
       "      <td>NaN</td>\n",
       "      <td>...</td>\n",
       "      <td>NaN</td>\n",
       "      <td>6.0</td>\n",
       "      <td>6.0</td>\n",
       "      <td>3.0</td>\n",
       "      <td>0.0</td>\n",
       "      <td>9.0</td>\n",
       "      <td>NaN</td>\n",
       "      <td>3</td>\n",
       "      <td>1</td>\n",
       "      <td>4</td>\n",
       "    </tr>\n",
       "  </tbody>\n",
       "</table>\n",
       "<p>2 rows × 366 columns</p>\n",
       "</div>"
      ],
      "text/plain": [
       "    LNR  AGER_TYP  AKT_DAT_KL  ALTER_HH  ALTER_KIND1  ALTER_KIND2  \\\n",
       "0  9626         2         1.0      10.0          NaN          NaN   \n",
       "1  9628        -1         9.0      11.0          NaN          NaN   \n",
       "\n",
       "   ALTER_KIND3  ALTER_KIND4  ALTERSKATEGORIE_FEIN  ANZ_HAUSHALTE_AKTIV  ...  \\\n",
       "0          NaN          NaN                  10.0                  1.0  ...   \n",
       "1          NaN          NaN                   NaN                  NaN  ...   \n",
       "\n",
       "   VHN  VK_DHT4A  VK_DISTANZ  VK_ZG11  W_KEIT_KIND_HH  WOHNDAUER_2008  \\\n",
       "0  3.0       5.0         3.0      2.0             6.0             9.0   \n",
       "1  NaN       6.0         6.0      3.0             0.0             9.0   \n",
       "\n",
       "   WOHNLAGE ZABEOTYP ANREDE_KZ ALTERSKATEGORIE_GROB  \n",
       "0       7.0        3         1                    4  \n",
       "1       NaN        3         1                    4  \n",
       "\n",
       "[2 rows x 366 columns]"
      ]
     },
     "execution_count": 9,
     "metadata": {},
     "output_type": "execute_result"
    }
   ],
   "source": [
    "# Data Preview\n",
    "customers.head(2)"
   ]
  },
  {
   "cell_type": "markdown",
   "metadata": {},
   "source": [
    "**Analyzing NaNs**"
   ]
  },
  {
   "cell_type": "code",
   "execution_count": 10,
   "metadata": {},
   "outputs": [],
   "source": [
    "def nan_histograms(df, df_name):\n",
    "    \"\"\"Plotting two histograms for columns and rows of dataframe showing number of NaNs\"\"\"\n",
    "    fig = plt.figure(figsize=(16, 4.5))\n",
    "    fig.suptitle(\"NaNs in \"+df_name+\" data\", fontsize=14)\n",
    "    ax1 = plt.subplot(1,2,1)\n",
    "    ax1.hist(df.isnull().mean(axis=0)*100, bins=np.linspace(0,100,21))\n",
    "    ax1.set_xlabel('Percentage of NaNs [%]')\n",
    "    ax1.set_ylabel('Number of columns')\n",
    "    ax2 = plt.subplot(1,2,2)\n",
    "    ax2.hist(df.isnull().mean(axis=1)*100, bins=np.linspace(0,100,21))\n",
    "    ax2.set_xlabel('Percentage of NaNs [%]')\n",
    "    ax2.set_ylabel('Number of rows')"
   ]
  },
  {
   "cell_type": "code",
   "execution_count": 11,
   "metadata": {},
   "outputs": [
    {
     "data": {
      "image/png": "[encoded data removed]",
      "text/plain": [
       "<Figure size 1152x324 with 2 Axes>"
      ]
     },
     "metadata": {
      "needs_background": "light"
     },
     "output_type": "display_data"
    }
   ],
   "source": [
    "# Plotting customers NaN histogram\n",
    "nan_histograms(customers, 'customers')"
   ]
  },
  {
   "cell_type": "code",
   "execution_count": 12,
   "metadata": {},
   "outputs": [
    {
     "data": {
      "image/png": "[encoded data removed]",
      "text/plain": [
       "<Figure size 1152x324 with 2 Axes>"
      ]
     },
     "metadata": {
      "needs_background": "light"
     },
     "output_type": "display_data"
    }
   ],
   "source": [
    "# Plotting general populations NaN histogram\n",
    "nan_histograms(azdias, 'general populations')"
   ]
  },
  {
   "cell_type": "code",
   "execution_count": 13,
   "metadata": {},
   "outputs": [],
   "source": [
    "def nan_distribution(df, title):\n",
    "    \"\"\"Plotting NaN distribution - INPUT: DataFrame and plot title (string)\"\"\"\n",
    "    x = (df.isnull().sum()/df.shape[0]*100).sort_values(ascending=False).index\n",
    "    y = (df.isnull().sum()/df.shape[0]*100).sort_values(ascending=False)\n",
    "    fig = plt.figure(figsize=(16, 4.5))\n",
    "    ax = plt.subplot(1,1,1)\n",
    "    ax.set_title(title)\n",
    "    ax.set_xlabel('columns')\n",
    "    ax.set_ylabel('Percentage of NaNs [%]')\n",
    "    ax.bar(x=x, height=y, edgecolor = \"none\")\n",
    "    ax.xaxis.set_visible(False)\n",
    "    plt.axhline(y=30, color='r', linestyle='-')"
   ]
  },
  {
   "cell_type": "code",
   "execution_count": 14,
   "metadata": {},
   "outputs": [
    {
     "data": {
      "image/png": "[encoded data removed]",
      "text/plain": [
       "<Figure size 1152x324 with 1 Axes>"
      ]
     },
     "metadata": {
      "needs_background": "light"
     },
     "output_type": "display_data"
    }
   ],
   "source": [
    "# Plotting general population NaN distribution\n",
    "nan_distribution(azdias, 'General population: NaN per column from original data')"
   ]
  },
  {
   "cell_type": "code",
   "execution_count": 15,
   "metadata": {},
   "outputs": [
    {
     "data": {
      "image/png": "[encoded data removed]",
      "text/plain": [
       "<Figure size 1152x324 with 1 Axes>"
      ]
     },
     "metadata": {
      "needs_background": "light"
     },
     "output_type": "display_data"
    }
   ],
   "source": [
    "# Plotting customers NaN distribution\n",
    "nan_distribution(customers, 'Customers: NaN per column from original data')"
   ]
  },
  {
   "cell_type": "markdown",
   "metadata": {},
   "source": [
    "**Analyzing class distribution**"
   ]
  },
  {
   "cell_type": "code",
   "execution_count": 16,
   "metadata": {},
   "outputs": [],
   "source": [
    "# Creating DataFrame to compare 'CAMEO_DEUG_2015' of customers and general population data\n",
    "categories = ['upper class', 'upper middleclass', 'established middleclass', 'consumption-oriented middleclass ',\n",
    "              'active middleclass ', 'low-consumption middleclass', 'lower middleclass', 'working class',\n",
    "              'urban working class', 'unknown']\n",
    "customers_data = customers['CAMEO_DEUG_2015'].value_counts(normalize=True).sort_index()*100\n",
    "general_pop_data = azdias['CAMEO_DEUG_2015'].value_counts(normalize=True).sort_index()*100\n",
    "class_cat = pd.DataFrame(data={'customer': customers_data, 'general_population': general_pop_data, 'categorie': categories})\n",
    "class_cat = pd.melt(class_cat, id_vars=['categorie'], value_vars=['customer', 'general_population'], ignore_index=False)"
   ]
  },
  {
   "cell_type": "code",
   "execution_count": 152,
   "metadata": {},
   "outputs": [
    {
     "data": {
      "image/png": "[encoded data removed]",
      "text/plain": [
       "<Figure size 864x648 with 1 Axes>"
      ]
     },
     "metadata": {
      "needs_background": "light"
     },
     "output_type": "display_data"
    }
   ],
   "source": [
    "# Plotting class distributions based on 'CAMEO_DEUG_2015'\n",
    "fig = plt.figure(figsize=(12, 9))\n",
    "ax = sns.barplot(x=\"value\", y=\"categorie\", hue=\"variable\", data=class_cat, orient='h')\n",
    "plt.title('Class distributions', fontsize=16)\n",
    "ax.set_xlabel('Percentage of people [%]', fontsize=12, weight='bold')\n",
    "ax.set_ylabel('Class category', fontsize=12, weight='bold')\n",
    "ax.set_xlim([0, 20])\n",
    "plt.legend(loc='upper right');"
   ]
  },
  {
   "cell_type": "markdown",
   "metadata": {},
   "source": [
    "### Cleaning data"
   ]
  },
  {
   "cell_type": "markdown",
   "metadata": {},
   "source": [
    "I manually created three lists for replacing unknown values with nan based on __*DIAS Information Levels - Attributes 2017.xlsx*__ and __*DIAS Attributes - Values 2017.xlsx*__.\n"
   ]
  },
  {
   "cell_type": "code",
   "execution_count": 18,
   "metadata": {},
   "outputs": [
    {
     "name": "stdout",
     "output_type": "stream",
     "text": [
      "For 150 attributes unknown values can be replaced by NaN.\n"
     ]
    }
   ],
   "source": [
    "# List of columns, where \"0\" means \"unknown\"\n",
    "list_unknown_0 = pd.read_csv('./data/attributes_unknown_0.csv', header=None).iloc[0,:].tolist()\n",
    "\n",
    "# List of columns, where \"9\" means \"unknown\"\n",
    "list_unknown_9 = pd.read_csv('./data/attributes_unknown_9.csv', header=None).iloc[0,:].tolist()\n",
    "\n",
    "# List of columns, where \"10\" means \"unknown\"\n",
    "list_unknown_10 = pd.read_csv('./data/attributes_unknown_10.csv', header=None).iloc[0,:].tolist()\n",
    "\n",
    "print(f\"For {len(list_unknown_0)+len(list_unknown_9)+len(list_unknown_10)} attributes unknown values can be replaced by NaN.\")"
   ]
  },
  {
   "cell_type": "code",
   "execution_count": 19,
   "metadata": {},
   "outputs": [],
   "source": [
    "def cleaning_data(df, test_data=False):\n",
    "    \"\"\"Performing several cleaning steps:\n",
    "    - Converting data types\n",
    "    - Renaming columns\n",
    "    - Replacing unknown/invalid values with NaN\n",
    "    - Dropping columns with high NaN percentage\n",
    "    - Dropping rows with high NaN percentage\n",
    "    - Filling NaNs of numerical values with columns median\n",
    "    - Filling NaNs of categorical values with columns mode\n",
    "    - Dummy categorical columns\n",
    "    \n",
    "    INPUT:\n",
    "    - DataFrame\n",
    "    - test_data (bool) - if test_data=True columns/rows with high NaN were not dropped\n",
    "    OUTPUT:\n",
    "    - Clean DataFrame\n",
    "    - DataFrame after filling with NaNs and before dropping columns/rows\n",
    "    \n",
    "    \"\"\"\n",
    "    # Creating a copy of DataFrame\n",
    "    df = df.copy()\n",
    "\n",
    "    # Converting int64 columns to int32 for reducing memory usage\n",
    "    for col in customers.select_dtypes(np.int64).columns:\n",
    "        customers[col] = customers[col].astype(np.int32)   \n",
    "    \n",
    "    # Converting float columns to int32 for reducing memory usage\n",
    "    # There are no decimal places other than 0\n",
    "    for col in customers.select_dtypes(include=['float']).columns:\n",
    "        customers[col] = customers[col].replace(np.nan, -1)\n",
    "        customers[col] = customers[col].astype(np.int32)   \n",
    "\n",
    "    # Creating dictionary for renaming column names\n",
    "    dict_new_columns = {}\n",
    "    for attribute in set(list_attributes)-set(df.columns):\n",
    "        if attribute[0:3] == 'D19' and attribute[-3:] == '_RZ':\n",
    "            dict_new_columns[attribute[:-3]] = attribute\n",
    "    dict_new_columns['CAMEO_INTL_2015'] = 'CAMEO_DEUINTL_2015'\n",
    "    dict_new_columns['D19_BUCH_CD'] = 'D19_BUCH_RZ'\n",
    "    dict_new_columns['KK_KUNDENTYP'] = 'D19_KK_KUNDENTYP'\n",
    "\n",
    "    # Renaming column names\n",
    "    df.rename(columns=dict_new_columns, inplace=True)\n",
    "   \n",
    "    # Replacing 0 values (means \"unknown\") in every column of list \"list_unknown_0\" with NaN\n",
    "    for col in list_unknown_0:\n",
    "        df.loc[:,col] = df.loc[:,col].replace(0, np.nan)\n",
    "        \n",
    "    # Replacing 9 values (means \"unknown\") in every column of list \"list_unknown_9\" with NaN\n",
    "    for col in list_unknown_9:\n",
    "        df.loc[:,col] = df.loc[:,col].replace(9, np.nan)\n",
    "    \n",
    "    # Replacing 10 values (means \"unknown\") in every column of list \"list_unknown_10\" with NaN\n",
    "    for col in list_unknown_10:\n",
    "        df.loc[:,col] = df.loc[:,col].replace(10, np.nan)\n",
    "    \n",
    "    # Replacing -1 values (means \"unknown\") in every column\" with NaN\n",
    "    for col in df.columns:\n",
    "        df[col] = df[col].replace(-1, np.nan)\n",
    "    \n",
    "    # Replacing 'XX' values (means \"unknown\") in \"CAMEO_DEUINTL_2015\" column with NaN\n",
    "    df.loc[:,'CAMEO_DEUINTL_2015'] = df.loc[:,'CAMEO_DEUINTL_2015'].replace('XX', np.nan)\n",
    "    \n",
    "    # Replacing 'X' values (means \"unknown\") in \"CAMEO_DEUG_2015\" column with NaN\n",
    "    df.loc[:,'CAMEO_DEUG_2015'] = df.loc[:,'CAMEO_DEUG_2015'].replace('X', np.nan)\n",
    "    \n",
    "    # Replacing 'D19_UNBEKANNT' values (means \"unknown\") in \"D19_LETZTER_KAUF_BRANCHE\" column with NaN\n",
    "    df.loc[:,'D19_LETZTER_KAUF_BRANCHE'] = df.loc[:,'D19_LETZTER_KAUF_BRANCHE'].replace('D19_UNBEKANNT', np.nan)\n",
    "    \n",
    "    # Data type conversions\n",
    "    df['CAMEO_DEUINTL_2015'] = pd.to_numeric(df['CAMEO_DEUINTL_2015'], errors='coerce')\n",
    "    df['CAMEO_DEUG_2015'] = pd.to_numeric(df['CAMEO_DEUG_2015'], errors='coerce')\n",
    "    df['EINGEFUEGT_AM'] = pd.to_datetime(df['EINGEFUEGT_AM'])\n",
    "    \n",
    "    # Extracting year of date column and dropping it\n",
    "    df['EINGEFUEGT_JAHR'] = pd.to_numeric(df['EINGEFUEGT_AM'].dt.year, downcast='integer', errors='coerce')\n",
    "    df.drop('EINGEFUEGT_AM', axis=1, inplace=True)\n",
    "\n",
    "    # Saving DataFrame filled with NaNs\n",
    "    df_nan = df.copy()\n",
    "    \n",
    "    if test_data==False:\n",
    "        # Dropping 'LNR' column, because these are just record numbers\n",
    "        # Dropping 'CAMEO_DEU_2015':\n",
    "        # - categorical variable with 44 distinct values\n",
    "        # - redundant to and more complex than 'CAMEO_DEUINTL_2015' and 'CAMEO_DEUG_2015'\n",
    "        # Dropping 'D19_LETZTER_KAUF_BRANCHE', because has more than 40% missing values,\n",
    "        # but somehow won't be dropped by algorithm below\n",
    "        df.drop(['LNR', 'CAMEO_DEU_2015', 'D19_LETZTER_KAUF_BRANCHE'], axis=1, inplace=True)\n",
    "        \n",
    "        # Dropping columns with more than 33% of NaNs (row need 67% of non-NaN-values to survive)\n",
    "        df.dropna(axis=1, thresh=int(round(df.shape[0]*0.7)), inplace=True)\n",
    "\n",
    "        # Dropping rows with more than 33% of NaNs (row need 67% of non-NaN-values to survive)\n",
    "        df.dropna(axis=0, thresh=int(round(df.shape[1]*0.7)), inplace=True)\n",
    "\n",
    "    # Filling NaNs of numeric columns with the median\n",
    "    num_columns = df.select_dtypes(np.number).columns\n",
    "    for col in num_columns:\n",
    "        df[col].fillna((df[col].median()), inplace=True)\n",
    "   \n",
    "    # Filling NaNs of categorical columns with the mode\n",
    "    cat_columns = df.select_dtypes(include=['object']).columns\n",
    "    for col in cat_columns:\n",
    "        df[col].fillna((df[col].mode()[0]), inplace=True)\n",
    " \n",
    "    # Dummy the categorical variables\n",
    "    for col in cat_columns:\n",
    "        # for each cat add dummy var, drop original column\n",
    "        df = pd.concat([df.drop(col, axis=1), pd.get_dummies(df[col], prefix=col, prefix_sep='_', drop_first=True)], axis=1)\n",
    "  \n",
    "    return df, df_nan"
   ]
  },
  {
   "cell_type": "code",
   "execution_count": 20,
   "metadata": {},
   "outputs": [],
   "source": [
    "# Cleaning DataFrames\n",
    "azdias_clean, azdias_nan = cleaning_data(azdias)\n",
    "customers_clean, customers_nan = cleaning_data(customers)"
   ]
  },
  {
   "cell_type": "code",
   "execution_count": 21,
   "metadata": {},
   "outputs": [
    {
     "name": "stdout",
     "output_type": "stream",
     "text": [
      "(785293, 294) (140351, 292)\n",
      "0 0\n"
     ]
    }
   ],
   "source": [
    "# Analyzing clean data\n",
    "print(azdias_clean.shape, customers_clean.shape)\n",
    "print(azdias_clean.isnull().sum().sum(), customers_clean.isnull().sum().sum())"
   ]
  },
  {
   "cell_type": "code",
   "execution_count": 22,
   "metadata": {},
   "outputs": [
    {
     "name": "stdout",
     "output_type": "stream",
     "text": [
      "(785293, 292) (140351, 292)\n"
     ]
    }
   ],
   "source": [
    "# Selecting columns that remain in both datasets\n",
    "col_intersect = np.intersect1d(customers_clean.columns, azdias_clean.columns)\n",
    "azdias_clean = azdias_clean[col_intersect]\n",
    "customers_clean = customers_clean[col_intersect]\n",
    "print(azdias_clean.shape, customers_clean.shape)"
   ]
  },
  {
   "cell_type": "code",
   "execution_count": 23,
   "metadata": {},
   "outputs": [
    {
     "data": {
      "image/png": "[encoded data removed]",
      "text/plain": [
       "<Figure size 1152x324 with 1 Axes>"
      ]
     },
     "metadata": {
      "needs_background": "light"
     },
     "output_type": "display_data"
    }
   ],
   "source": [
    "# Plotting general population NaN distribution\n",
    "nan_distribution(azdias_nan, 'General population: NaN per column after replacing unknow values with NaN')"
   ]
  },
  {
   "cell_type": "code",
   "execution_count": 24,
   "metadata": {},
   "outputs": [
    {
     "data": {
      "image/png": "[encoded data removed]",
      "text/plain": [
       "<Figure size 1152x324 with 1 Axes>"
      ]
     },
     "metadata": {
      "needs_background": "light"
     },
     "output_type": "display_data"
    }
   ],
   "source": [
    "# Plotting customers NaN distribution\n",
    "nan_distribution(customers_nan, 'Customers: NaN per column after replacing unknow values with NaN')"
   ]
  },
  {
   "cell_type": "code",
   "execution_count": 25,
   "metadata": {},
   "outputs": [
    {
     "data": {
      "text/html": [
       "<div>\n",
       "<style scoped>\n",
       "    .dataframe tbody tr th:only-of-type {\n",
       "        vertical-align: middle;\n",
       "    }\n",
       "\n",
       "    .dataframe tbody tr th {\n",
       "        vertical-align: top;\n",
       "    }\n",
       "\n",
       "    .dataframe thead th {\n",
       "        text-align: right;\n",
       "    }\n",
       "</style>\n",
       "<table border=\"1\" class=\"dataframe\">\n",
       "  <thead>\n",
       "    <tr style=\"text-align: right;\">\n",
       "      <th></th>\n",
       "      <th>AKT_DAT_KL</th>\n",
       "      <th>ALTERSKATEGORIE_FEIN</th>\n",
       "      <th>ALTERSKATEGORIE_GROB</th>\n",
       "      <th>ANREDE_KZ</th>\n",
       "      <th>ANZ_HAUSHALTE_AKTIV</th>\n",
       "      <th>ANZ_HH_TITEL</th>\n",
       "      <th>ANZ_KINDER</th>\n",
       "      <th>ANZ_PERSONEN</th>\n",
       "      <th>ANZ_STATISTISCHE_HAUSHALTE</th>\n",
       "      <th>ANZ_TITEL</th>\n",
       "      <th>...</th>\n",
       "      <th>VERS_TYP</th>\n",
       "      <th>VHA</th>\n",
       "      <th>VHN</th>\n",
       "      <th>VK_DHT4A</th>\n",
       "      <th>VK_DISTANZ</th>\n",
       "      <th>VK_ZG11</th>\n",
       "      <th>WOHNDAUER_2008</th>\n",
       "      <th>WOHNLAGE</th>\n",
       "      <th>W_KEIT_KIND_HH</th>\n",
       "      <th>ZABEOTYP</th>\n",
       "    </tr>\n",
       "  </thead>\n",
       "  <tbody>\n",
       "    <tr>\n",
       "      <th>1</th>\n",
       "      <td>9.0</td>\n",
       "      <td>21.0</td>\n",
       "      <td>1</td>\n",
       "      <td>2</td>\n",
       "      <td>11.0</td>\n",
       "      <td>0.0</td>\n",
       "      <td>0.0</td>\n",
       "      <td>2.0</td>\n",
       "      <td>12.0</td>\n",
       "      <td>0.0</td>\n",
       "      <td>...</td>\n",
       "      <td>2.0</td>\n",
       "      <td>0.0</td>\n",
       "      <td>4.0</td>\n",
       "      <td>8.0</td>\n",
       "      <td>11.0</td>\n",
       "      <td>10.0</td>\n",
       "      <td>9.0</td>\n",
       "      <td>4.0</td>\n",
       "      <td>3.0</td>\n",
       "      <td>5</td>\n",
       "    </tr>\n",
       "    <tr>\n",
       "      <th>2</th>\n",
       "      <td>9.0</td>\n",
       "      <td>17.0</td>\n",
       "      <td>3</td>\n",
       "      <td>2</td>\n",
       "      <td>10.0</td>\n",
       "      <td>0.0</td>\n",
       "      <td>0.0</td>\n",
       "      <td>1.0</td>\n",
       "      <td>7.0</td>\n",
       "      <td>0.0</td>\n",
       "      <td>...</td>\n",
       "      <td>1.0</td>\n",
       "      <td>0.0</td>\n",
       "      <td>2.0</td>\n",
       "      <td>9.0</td>\n",
       "      <td>9.0</td>\n",
       "      <td>6.0</td>\n",
       "      <td>9.0</td>\n",
       "      <td>2.0</td>\n",
       "      <td>3.0</td>\n",
       "      <td>5</td>\n",
       "    </tr>\n",
       "  </tbody>\n",
       "</table>\n",
       "<p>2 rows × 292 columns</p>\n",
       "</div>"
      ],
      "text/plain": [
       "   AKT_DAT_KL  ALTERSKATEGORIE_FEIN  ALTERSKATEGORIE_GROB  ANREDE_KZ  \\\n",
       "1         9.0                  21.0                     1          2   \n",
       "2         9.0                  17.0                     3          2   \n",
       "\n",
       "   ANZ_HAUSHALTE_AKTIV  ANZ_HH_TITEL  ANZ_KINDER  ANZ_PERSONEN  \\\n",
       "1                 11.0           0.0         0.0           2.0   \n",
       "2                 10.0           0.0         0.0           1.0   \n",
       "\n",
       "   ANZ_STATISTISCHE_HAUSHALTE  ANZ_TITEL  ...  VERS_TYP  VHA  VHN  VK_DHT4A  \\\n",
       "1                        12.0        0.0  ...       2.0  0.0  4.0       8.0   \n",
       "2                         7.0        0.0  ...       1.0  0.0  2.0       9.0   \n",
       "\n",
       "   VK_DISTANZ  VK_ZG11  WOHNDAUER_2008  WOHNLAGE  W_KEIT_KIND_HH  ZABEOTYP  \n",
       "1        11.0     10.0             9.0       4.0             3.0         5  \n",
       "2         9.0      6.0             9.0       2.0             3.0         5  \n",
       "\n",
       "[2 rows x 292 columns]"
      ]
     },
     "execution_count": 25,
     "metadata": {},
     "output_type": "execute_result"
    }
   ],
   "source": [
    "# Data preview after cleaning\n",
    "azdias_clean.head(2)"
   ]
  },
  {
   "cell_type": "code",
   "execution_count": 26,
   "metadata": {},
   "outputs": [
    {
     "data": {
      "text/html": [
       "<div>\n",
       "<style scoped>\n",
       "    .dataframe tbody tr th:only-of-type {\n",
       "        vertical-align: middle;\n",
       "    }\n",
       "\n",
       "    .dataframe tbody tr th {\n",
       "        vertical-align: top;\n",
       "    }\n",
       "\n",
       "    .dataframe thead th {\n",
       "        text-align: right;\n",
       "    }\n",
       "</style>\n",
       "<table border=\"1\" class=\"dataframe\">\n",
       "  <thead>\n",
       "    <tr style=\"text-align: right;\">\n",
       "      <th></th>\n",
       "      <th>AKT_DAT_KL</th>\n",
       "      <th>ALTERSKATEGORIE_FEIN</th>\n",
       "      <th>ALTERSKATEGORIE_GROB</th>\n",
       "      <th>ANREDE_KZ</th>\n",
       "      <th>ANZ_HAUSHALTE_AKTIV</th>\n",
       "      <th>ANZ_HH_TITEL</th>\n",
       "      <th>ANZ_KINDER</th>\n",
       "      <th>ANZ_PERSONEN</th>\n",
       "      <th>ANZ_STATISTISCHE_HAUSHALTE</th>\n",
       "      <th>ANZ_TITEL</th>\n",
       "      <th>...</th>\n",
       "      <th>VERS_TYP</th>\n",
       "      <th>VHA</th>\n",
       "      <th>VHN</th>\n",
       "      <th>VK_DHT4A</th>\n",
       "      <th>VK_DISTANZ</th>\n",
       "      <th>VK_ZG11</th>\n",
       "      <th>WOHNDAUER_2008</th>\n",
       "      <th>WOHNLAGE</th>\n",
       "      <th>W_KEIT_KIND_HH</th>\n",
       "      <th>ZABEOTYP</th>\n",
       "    </tr>\n",
       "  </thead>\n",
       "  <tbody>\n",
       "    <tr>\n",
       "      <th>0</th>\n",
       "      <td>1.0</td>\n",
       "      <td>10.0</td>\n",
       "      <td>4</td>\n",
       "      <td>1</td>\n",
       "      <td>1.0</td>\n",
       "      <td>0.0</td>\n",
       "      <td>0.0</td>\n",
       "      <td>2.0</td>\n",
       "      <td>1.0</td>\n",
       "      <td>0.0</td>\n",
       "      <td>...</td>\n",
       "      <td>1.0</td>\n",
       "      <td>0.0</td>\n",
       "      <td>3.0</td>\n",
       "      <td>5.0</td>\n",
       "      <td>3.0</td>\n",
       "      <td>2.0</td>\n",
       "      <td>9.0</td>\n",
       "      <td>7.0</td>\n",
       "      <td>6.0</td>\n",
       "      <td>3</td>\n",
       "    </tr>\n",
       "    <tr>\n",
       "      <th>2</th>\n",
       "      <td>1.0</td>\n",
       "      <td>0.0</td>\n",
       "      <td>4</td>\n",
       "      <td>2</td>\n",
       "      <td>1.0</td>\n",
       "      <td>0.0</td>\n",
       "      <td>0.0</td>\n",
       "      <td>1.0</td>\n",
       "      <td>1.0</td>\n",
       "      <td>0.0</td>\n",
       "      <td>...</td>\n",
       "      <td>2.0</td>\n",
       "      <td>0.0</td>\n",
       "      <td>4.0</td>\n",
       "      <td>10.0</td>\n",
       "      <td>13.0</td>\n",
       "      <td>11.0</td>\n",
       "      <td>9.0</td>\n",
       "      <td>2.0</td>\n",
       "      <td>6.0</td>\n",
       "      <td>3</td>\n",
       "    </tr>\n",
       "  </tbody>\n",
       "</table>\n",
       "<p>2 rows × 292 columns</p>\n",
       "</div>"
      ],
      "text/plain": [
       "   AKT_DAT_KL  ALTERSKATEGORIE_FEIN  ALTERSKATEGORIE_GROB  ANREDE_KZ  \\\n",
       "0         1.0                  10.0                     4          1   \n",
       "2         1.0                   0.0                     4          2   \n",
       "\n",
       "   ANZ_HAUSHALTE_AKTIV  ANZ_HH_TITEL  ANZ_KINDER  ANZ_PERSONEN  \\\n",
       "0                  1.0           0.0         0.0           2.0   \n",
       "2                  1.0           0.0         0.0           1.0   \n",
       "\n",
       "   ANZ_STATISTISCHE_HAUSHALTE  ANZ_TITEL  ...  VERS_TYP  VHA  VHN  VK_DHT4A  \\\n",
       "0                         1.0        0.0  ...       1.0  0.0  3.0       5.0   \n",
       "2                         1.0        0.0  ...       2.0  0.0  4.0      10.0   \n",
       "\n",
       "   VK_DISTANZ  VK_ZG11  WOHNDAUER_2008  WOHNLAGE  W_KEIT_KIND_HH  ZABEOTYP  \n",
       "0         3.0      2.0             9.0       7.0             6.0         3  \n",
       "2        13.0     11.0             9.0       2.0             6.0         3  \n",
       "\n",
       "[2 rows x 292 columns]"
      ]
     },
     "execution_count": 26,
     "metadata": {},
     "output_type": "execute_result"
    }
   ],
   "source": [
    "# Data preview after cleaning\n",
    "customers_clean.head(2)"
   ]
  },
  {
   "cell_type": "markdown",
   "metadata": {},
   "source": [
    "## Part 1: Customer Segmentation Report\n",
    "\n",
    "The main bulk of your analysis will come in this part of the project. Here, you should use unsupervised learning techniques to describe the relationship between the demographics of the company's existing customers and the general population of Germany. By the end of this part, you should be able to describe parts of the general population that are more likely to be part of the mail-order company's main customer base, and which parts of the general population are less so."
   ]
  },
  {
   "cell_type": "markdown",
   "metadata": {},
   "source": [
    "### PCA"
   ]
  },
  {
   "cell_type": "code",
   "execution_count": 81,
   "metadata": {},
   "outputs": [
    {
     "name": "stdout",
     "output_type": "stream",
     "text": [
      "<class 'pandas.core.frame.DataFrame'>\n",
      "Int64Index: 785293 entries, 1 to 891220\n",
      "Columns: 292 entries, AKT_DAT_KL to ZABEOTYP\n",
      "dtypes: float64(260), int64(31), uint8(1)\n",
      "memory usage: 1.7 GB\n"
     ]
    }
   ],
   "source": [
    "azdias_clean.info()"
   ]
  },
  {
   "cell_type": "code",
   "execution_count": 98,
   "metadata": {},
   "outputs": [],
   "source": [
    "# Scaling general population data for PCA\n",
    "scaler = StandardScaler()\n",
    "azdias_scaled = scaler.fit_transform(azdias_clean.astype(float))\n",
    "customers_scaled = scaler.fit_transform(customers_clean.astype(float))"
   ]
  },
  {
   "cell_type": "code",
   "execution_count": null,
   "metadata": {},
   "outputs": [],
   "source": [
    "# Instantiating PCA\n",
    "pca = PCA()\n",
    "\n",
    "# Fitting and transforming data\n",
    "azdias_pca = pca.fit_transform(azdias_scaled)"
   ]
  },
  {
   "cell_type": "code",
   "execution_count": 83,
   "metadata": {},
   "outputs": [],
   "source": [
    "def plot_explained_variance(pca):\n",
    "    \"\"\"Plotting (cumulative) explained variance\"\"\"\n",
    "    n_components = range(1,len(pca.explained_variance_ratio_)+1)\n",
    "    \n",
    "    fig = plt.figure(figsize=(16, 4.5))\n",
    "    \n",
    "    ax1 = plt.subplot(1,2,1)\n",
    "    ax1.plot(n_components, pca.explained_variance_ratio_.cumsum(), marker ='o', linestyle='--')\n",
    "    ax1.set_title('Cumulative explained variance by components')\n",
    "    ax1.set_xlabel('Number of components')\n",
    "    ax1.set_ylabel('Variance')\n",
    "    \n",
    "    ax2 = plt.subplot(1,2,2)\n",
    "    ax2.bar(n_components, pca.explained_variance_ratio_, edgecolor = \"none\")\n",
    "    ax2.set_title('Explained variance by components')\n",
    "    ax2.set_xlabel('Number of components')\n",
    "    ax2.set_ylabel('Variance')"
   ]
  },
  {
   "cell_type": "code",
   "execution_count": 84,
   "metadata": {},
   "outputs": [
    {
     "data": {
      "image/png": "[encoded data removed]",
      "text/plain": [
       "<Figure size 1152x324 with 2 Axes>"
      ]
     },
     "metadata": {
      "needs_background": "light"
     },
     "output_type": "display_data"
    }
   ],
   "source": [
    "# Plotting explained variance of general population\n",
    "plot_explained_variance(pca)"
   ]
  },
  {
   "cell_type": "code",
   "execution_count": 85,
   "metadata": {},
   "outputs": [
    {
     "name": "stdout",
     "output_type": "stream",
     "text": [
      "Number of components < 80%: 93\n"
     ]
    }
   ],
   "source": [
    "print(f\"Number of components < 80%: {np.sum(pca.explained_variance_ratio_.cumsum()<0.8)}\")"
   ]
  },
  {
   "cell_type": "markdown",
   "metadata": {},
   "source": [
    "**In order to preserve about 80 % of the variance, we choose to keep 100 components.**"
   ]
  },
  {
   "cell_type": "code",
   "execution_count": 99,
   "metadata": {},
   "outputs": [],
   "source": [
    "# Instantiating PCA\n",
    "pca = PCA(n_components = 100)\n",
    "\n",
    "# Fitting and transforming data\n",
    "azdias_pca = pca.fit_transform(azdias_scaled)\n",
    "customers_pca = pca.fit_transform(customers_scaled)"
   ]
  },
  {
   "cell_type": "code",
   "execution_count": 100,
   "metadata": {},
   "outputs": [
    {
     "data": {
      "image/png": "[encoded data removed]",
      "text/plain": [
       "<Figure size 1152x324 with 2 Axes>"
      ]
     },
     "metadata": {
      "needs_background": "light"
     },
     "output_type": "display_data"
    }
   ],
   "source": [
    "# Plotting explained variance of general population\n",
    "plot_explained_variance(pca_azdias)"
   ]
  },
  {
   "cell_type": "markdown",
   "metadata": {},
   "source": [
    "### Clustering"
   ]
  },
  {
   "cell_type": "markdown",
   "metadata": {},
   "source": [
    "#### Identify number of clusters"
   ]
  },
  {
   "cell_type": "code",
   "execution_count": 88,
   "metadata": {},
   "outputs": [],
   "source": [
    "def calculate_k_means_wcss(data, n_cluster_max, plot=True):\n",
    "    \"\"\"Calculating Within Cluster Sums of Squares (WCSS) with KMeans\n",
    "    INPUT:\n",
    "    - data\n",
    "    - n_cluster_max (int): maximum number of clusters\n",
    "    - plot (bool): Plotting Sum of squared distances if True\n",
    "    \n",
    "    OUTPUT: None\n",
    "    \"\"\"\n",
    "    n_cluster = np.arange(2,n_cluster_max+1)\n",
    "    wcss = [MiniBatchKMeans(n, batch_size=3072).fit(data).score(data) for n in n_cluster]\n",
    "    \n",
    "    if plot:\n",
    "        plt.figure(figsize=(8,4.5))\n",
    "        plt.plot(n_cluster, np.abs(wcss), marker = 'o', linestyle = '--')\n",
    "        plt.title('Sum of squared distances')\n",
    "        plt.xlabel('Number of clusters')\n",
    "        plt.ylabel('WCSS')\n",
    "        plt.show()"
   ]
  },
  {
   "cell_type": "code",
   "execution_count": 90,
   "metadata": {},
   "outputs": [
    {
     "data": {
      "image/png": "[encoded data removed]",
      "text/plain": [
       "<Figure size 576x324 with 1 Axes>"
      ]
     },
     "metadata": {
      "needs_background": "light"
     },
     "output_type": "display_data"
    }
   ],
   "source": [
    "# Plotting Sum of squared distances of general population data\n",
    "calculate_k_means_wcss(azdias_pca, 30, plot=True)"
   ]
  },
  {
   "cell_type": "markdown",
   "metadata": {},
   "source": [
    "**Using the elbow-method we choose to continue clustering with 12 clusters.**"
   ]
  },
  {
   "cell_type": "code",
   "execution_count": 101,
   "metadata": {},
   "outputs": [
    {
     "name": "stdout",
     "output_type": "stream",
     "text": [
      "Wall time: 1min 48s\n"
     ]
    }
   ],
   "source": [
    "# Calculating K-Means of general population data\n",
    "kmeans = KMeans(n_clusters = 12, random_state=2)\n",
    "\n",
    "# Compute cluster centers and predict cluster index for each sample\n",
    "kmeans_azdias = kmeans.fit_predict(azdias_pca)\n",
    "kmeans_customers = kmeans.fit_predict(customers_pca)"
   ]
  },
  {
   "cell_type": "code",
   "execution_count": 103,
   "metadata": {},
   "outputs": [
    {
     "data": {
      "text/plain": [
       "((785293,), (140351,))"
      ]
     },
     "execution_count": 103,
     "metadata": {},
     "output_type": "execute_result"
    }
   ],
   "source": [
    "kmeans_azdias.shape, kmeans_customers.shape"
   ]
  },
  {
   "cell_type": "code",
   "execution_count": 111,
   "metadata": {},
   "outputs": [],
   "source": [
    "(unique_azdias, counts_azdias) = np.unique(kmeans_azdias, return_counts=True)\n",
    "(unique_customers, counts_customers) = np.unique(kmeans_customers, return_counts=True)"
   ]
  },
  {
   "cell_type": "code",
   "execution_count": 135,
   "metadata": {},
   "outputs": [],
   "source": [
    "df = pd.DataFrame([counts_azdias/kmeans_azdias.shape[0], counts_customers/kmeans_customers.shape[0]]).transpose()\n",
    "df.rename(columns={0: 'general_population', 1: 'customers'}, inplace=True)\n",
    "df['cluster'] = np.arange(1,df.shape[0]+1)\n",
    "df = pd.melt(df, id_vars=['cluster'], value_vars=['customers', 'general_population'], ignore_index=False)"
   ]
  },
  {
   "cell_type": "code",
   "execution_count": 143,
   "metadata": {},
   "outputs": [
    {
     "data": {
      "image/png": "[encoded data removed]",
      "text/plain": [
       "<Figure size 1152x324 with 1 Axes>"
      ]
     },
     "metadata": {
      "needs_background": "light"
     },
     "output_type": "display_data"
    }
   ],
   "source": [
    "# Plotting class distributions based on 'CAMEO_DEUG_2015'\n",
    "fig = plt.figure(figsize=(16, 4.5))\n",
    "ax = sns.barplot(x=\"cluster\", y=\"value\", hue=\"variable\", data=df, orient='v')\n",
    "plt.title('Cluster comparison', fontsize=16)\n",
    "ax.set_xlabel('Cluster', fontsize=12, weight='bold')\n",
    "ax.set_ylabel('Percentage [%]', fontsize=12, weight='bold')\n",
    "ax.set_ylim([0, .15])\n",
    "plt.legend(loc='upper left');"
   ]
  },
  {
   "cell_type": "markdown",
   "metadata": {},
   "source": [
    "## Part 2: Supervised Learning Model\n",
    "\n",
    "Now that you've found which parts of the population are more likely to be customers of the mail-order company, it's time to build a prediction model. Each of the rows in the \"MAILOUT\" data files represents an individual that was targeted for a mailout campaign. Ideally, we should be able to use the demographic information from each individual to decide whether or not it will be worth it to include that person in the campaign.\n",
    "\n",
    "The \"MAILOUT\" data has been split into two approximately equal parts, each with almost 43 000 data rows. In this part, you can verify your model with the \"TRAIN\" partition, which includes a column, \"RESPONSE\", that states whether or not a person became a customer of the company following the campaign. In the next part, you'll need to create predictions on the \"TEST\" partition, where the \"RESPONSE\" column has been withheld."
   ]
  },
  {
   "cell_type": "code",
   "execution_count": 27,
   "metadata": {},
   "outputs": [],
   "source": [
    "# Reading training data from pickle files\n",
    "mailout_train = pd.read_pickle(\"./data/mailout_train.pkl\")\n",
    "mailout_test = pd.read_pickle(\"./data/mailout_test.pkl\")"
   ]
  },
  {
   "cell_type": "code",
   "execution_count": 28,
   "metadata": {},
   "outputs": [
    {
     "data": {
      "text/plain": [
       "((42962, 367), (42833, 366))"
      ]
     },
     "execution_count": 28,
     "metadata": {},
     "output_type": "execute_result"
    }
   ],
   "source": [
    "# Showing number of columns and rows\n",
    "mailout_train.shape, mailout_test.shape"
   ]
  },
  {
   "cell_type": "code",
   "execution_count": 29,
   "metadata": {},
   "outputs": [
    {
     "data": {
      "text/html": [
       "<div>\n",
       "<style scoped>\n",
       "    .dataframe tbody tr th:only-of-type {\n",
       "        vertical-align: middle;\n",
       "    }\n",
       "\n",
       "    .dataframe tbody tr th {\n",
       "        vertical-align: top;\n",
       "    }\n",
       "\n",
       "    .dataframe thead th {\n",
       "        text-align: right;\n",
       "    }\n",
       "</style>\n",
       "<table border=\"1\" class=\"dataframe\">\n",
       "  <thead>\n",
       "    <tr style=\"text-align: right;\">\n",
       "      <th></th>\n",
       "      <th>LNR</th>\n",
       "      <th>AGER_TYP</th>\n",
       "      <th>AKT_DAT_KL</th>\n",
       "      <th>ALTER_HH</th>\n",
       "      <th>ALTER_KIND1</th>\n",
       "      <th>ALTER_KIND2</th>\n",
       "      <th>ALTER_KIND3</th>\n",
       "      <th>ALTER_KIND4</th>\n",
       "      <th>ALTERSKATEGORIE_FEIN</th>\n",
       "      <th>ANZ_HAUSHALTE_AKTIV</th>\n",
       "      <th>...</th>\n",
       "      <th>VK_DHT4A</th>\n",
       "      <th>VK_DISTANZ</th>\n",
       "      <th>VK_ZG11</th>\n",
       "      <th>W_KEIT_KIND_HH</th>\n",
       "      <th>WOHNDAUER_2008</th>\n",
       "      <th>WOHNLAGE</th>\n",
       "      <th>ZABEOTYP</th>\n",
       "      <th>RESPONSE</th>\n",
       "      <th>ANREDE_KZ</th>\n",
       "      <th>ALTERSKATEGORIE_GROB</th>\n",
       "    </tr>\n",
       "  </thead>\n",
       "  <tbody>\n",
       "    <tr>\n",
       "      <th>0</th>\n",
       "      <td>1763</td>\n",
       "      <td>2</td>\n",
       "      <td>1.0</td>\n",
       "      <td>8.0</td>\n",
       "      <td>NaN</td>\n",
       "      <td>NaN</td>\n",
       "      <td>NaN</td>\n",
       "      <td>NaN</td>\n",
       "      <td>8.0</td>\n",
       "      <td>15.0</td>\n",
       "      <td>...</td>\n",
       "      <td>5.0</td>\n",
       "      <td>2.0</td>\n",
       "      <td>1.0</td>\n",
       "      <td>6.0</td>\n",
       "      <td>9.0</td>\n",
       "      <td>3.0</td>\n",
       "      <td>3</td>\n",
       "      <td>0</td>\n",
       "      <td>2</td>\n",
       "      <td>4</td>\n",
       "    </tr>\n",
       "    <tr>\n",
       "      <th>1</th>\n",
       "      <td>1771</td>\n",
       "      <td>1</td>\n",
       "      <td>4.0</td>\n",
       "      <td>13.0</td>\n",
       "      <td>NaN</td>\n",
       "      <td>NaN</td>\n",
       "      <td>NaN</td>\n",
       "      <td>NaN</td>\n",
       "      <td>13.0</td>\n",
       "      <td>1.0</td>\n",
       "      <td>...</td>\n",
       "      <td>1.0</td>\n",
       "      <td>2.0</td>\n",
       "      <td>1.0</td>\n",
       "      <td>4.0</td>\n",
       "      <td>9.0</td>\n",
       "      <td>7.0</td>\n",
       "      <td>1</td>\n",
       "      <td>0</td>\n",
       "      <td>2</td>\n",
       "      <td>3</td>\n",
       "    </tr>\n",
       "  </tbody>\n",
       "</table>\n",
       "<p>2 rows × 367 columns</p>\n",
       "</div>"
      ],
      "text/plain": [
       "    LNR  AGER_TYP  AKT_DAT_KL  ALTER_HH  ALTER_KIND1  ALTER_KIND2  \\\n",
       "0  1763         2         1.0       8.0          NaN          NaN   \n",
       "1  1771         1         4.0      13.0          NaN          NaN   \n",
       "\n",
       "   ALTER_KIND3  ALTER_KIND4  ALTERSKATEGORIE_FEIN  ANZ_HAUSHALTE_AKTIV  ...  \\\n",
       "0          NaN          NaN                   8.0                 15.0  ...   \n",
       "1          NaN          NaN                  13.0                  1.0  ...   \n",
       "\n",
       "   VK_DHT4A  VK_DISTANZ  VK_ZG11  W_KEIT_KIND_HH  WOHNDAUER_2008  WOHNLAGE  \\\n",
       "0       5.0         2.0      1.0             6.0             9.0       3.0   \n",
       "1       1.0         2.0      1.0             4.0             9.0       7.0   \n",
       "\n",
       "   ZABEOTYP RESPONSE ANREDE_KZ ALTERSKATEGORIE_GROB  \n",
       "0         3        0         2                    4  \n",
       "1         1        0         2                    3  \n",
       "\n",
       "[2 rows x 367 columns]"
      ]
     },
     "execution_count": 29,
     "metadata": {},
     "output_type": "execute_result"
    }
   ],
   "source": [
    "# Data preview\n",
    "mailout_train.head(2)"
   ]
  },
  {
   "cell_type": "code",
   "execution_count": 30,
   "metadata": {},
   "outputs": [
    {
     "name": "stdout",
     "output_type": "stream",
     "text": [
      "There are 0 rows with no Response value.\n"
     ]
    }
   ],
   "source": [
    "print(f\"There are {mailout_train['RESPONSE'].isnull().sum()} rows with no Response value.\")"
   ]
  },
  {
   "cell_type": "code",
   "execution_count": 31,
   "metadata": {},
   "outputs": [
    {
     "name": "stdout",
     "output_type": "stream",
     "text": [
      "Negative Response: 0.9876169638284996\n",
      "Positive Response: 0.012383036171500396\n"
     ]
    }
   ],
   "source": [
    "print(f\"Negative Response: {mailout_train['RESPONSE'].value_counts(normalize=True)[0]}\")\n",
    "print(f\"Positive Response: {mailout_train['RESPONSE'].value_counts(normalize=True)[1]}\")"
   ]
  },
  {
   "cell_type": "code",
   "execution_count": 32,
   "metadata": {},
   "outputs": [
    {
     "data": {
      "image/png": "[encoded data removed]",
      "text/plain": [
       "<Figure size 1152x324 with 2 Axes>"
      ]
     },
     "metadata": {
      "needs_background": "light"
     },
     "output_type": "display_data"
    }
   ],
   "source": [
    "# Plotting NaN histogram of mailout_train data\n",
    "nan_histograms(mailout_train, 'mailout_train')"
   ]
  },
  {
   "cell_type": "code",
   "execution_count": 33,
   "metadata": {},
   "outputs": [],
   "source": [
    "# Cleaning DataFrame\n",
    "mailout_train_clean, mailout_train_nan = cleaning_data(mailout_train)"
   ]
  },
  {
   "cell_type": "code",
   "execution_count": 34,
   "metadata": {},
   "outputs": [
    {
     "name": "stdout",
     "output_type": "stream",
     "text": [
      "(34998, 296)\n",
      "0\n"
     ]
    }
   ],
   "source": [
    "# Analyzing clean data\n",
    "print(mailout_train_clean.shape)\n",
    "print(mailout_train_clean.isnull().sum().sum())"
   ]
  },
  {
   "cell_type": "code",
   "execution_count": 35,
   "metadata": {},
   "outputs": [
    {
     "name": "stdout",
     "output_type": "stream",
     "text": [
      "Negative Response: 0.9875707183267616\n",
      "Positive Response: 0.01242928167323847\n"
     ]
    }
   ],
   "source": [
    "print(f\"Negative Response: {mailout_train_clean['RESPONSE'].value_counts(normalize=True)[0]}\")\n",
    "print(f\"Positive Response: {mailout_train_clean['RESPONSE'].value_counts(normalize=True)[1]}\")"
   ]
  },
  {
   "cell_type": "code",
   "execution_count": 36,
   "metadata": {},
   "outputs": [],
   "source": [
    "# Create y as the Response column\n",
    "y_train = mailout_train_clean['RESPONSE']\n",
    "\n",
    "# Drop Response column\n",
    "X_train = mailout_train_clean.drop('RESPONSE', axis=1, inplace=False)"
   ]
  },
  {
   "cell_type": "markdown",
   "metadata": {},
   "source": [
    "**Unscaled Data**"
   ]
  },
  {
   "cell_type": "code",
   "execution_count": 37,
   "metadata": {},
   "outputs": [
    {
     "name": "stdout",
     "output_type": "stream",
     "text": [
      "Mean cross_val_score LogisticRegression(random_state=2): 0.6827017785727738\n",
      "Mean cross_val_score RandomForestClassifier(random_state=2): 0.6411032873663419\n",
      "Mean cross_val_score GradientBoostingClassifier(random_state=2): 0.7746387812115814\n"
     ]
    }
   ],
   "source": [
    "random_state = 2\n",
    "\n",
    "LR = LogisticRegression(random_state=random_state)\n",
    "RF = RandomForestClassifier(random_state=random_state)\n",
    "GB = GradientBoostingClassifier(random_state=random_state)\n",
    "\n",
    "for clf in [LR, RF, GB]:\n",
    "    scores = cross_val_score(clf, X_train, y_train, cv=10, scoring='roc_auc', n_jobs=-1)\n",
    "    print(f\"Mean cross_val_score {clf}: {np.mean(scores)}\")"
   ]
  },
  {
   "cell_type": "markdown",
   "metadata": {},
   "source": [
    "**StandardScaler()**"
   ]
  },
  {
   "cell_type": "code",
   "execution_count": 38,
   "metadata": {},
   "outputs": [
    {
     "name": "stdout",
     "output_type": "stream",
     "text": [
      "Mean cross_val_score LogisticRegression(random_state=2): 0.6842794014783573\n",
      "Mean cross_val_score RandomForestClassifier(random_state=2): 0.6380775601973547\n",
      "Mean cross_val_score GradientBoostingClassifier(random_state=2): 0.7746299447186968\n"
     ]
    }
   ],
   "source": [
    "random_state = 2\n",
    "\n",
    "LR = LogisticRegression(random_state=random_state)\n",
    "RF = RandomForestClassifier(random_state=random_state)\n",
    "GB = GradientBoostingClassifier(random_state=random_state)\n",
    "\n",
    "for clf in [LR, RF, GB]:\n",
    "    pipeline = Pipeline([\n",
    "        ('scaler', StandardScaler()),\n",
    "        ('clf', clf)\n",
    "    ])\n",
    "    \n",
    "    scores = cross_val_score(pipeline, X_train, y_train, cv=10, scoring='roc_auc', n_jobs=-1)\n",
    "    print(f\"Mean cross_val_score {clf}: {np.mean(scores)}\")"
   ]
  },
  {
   "cell_type": "markdown",
   "metadata": {},
   "source": [
    "**MinMaxScaler()**"
   ]
  },
  {
   "cell_type": "code",
   "execution_count": 39,
   "metadata": {},
   "outputs": [
    {
     "name": "stdout",
     "output_type": "stream",
     "text": [
      "Mean cross_val_score LogisticRegression(random_state=2): 0.6957241468992594\n",
      "Mean cross_val_score RandomForestClassifier(random_state=2): 0.6401658154895459\n",
      "Mean cross_val_score GradientBoostingClassifier(random_state=2): 0.7746339790719682\n"
     ]
    }
   ],
   "source": [
    "random_state = 2\n",
    "\n",
    "LR = LogisticRegression(random_state=random_state)\n",
    "RF = RandomForestClassifier(random_state=random_state)\n",
    "GB = GradientBoostingClassifier(random_state=random_state)\n",
    "\n",
    "for clf in [LR, RF, GB]:\n",
    "    pipeline = Pipeline([\n",
    "        ('scaler', MinMaxScaler()),\n",
    "        ('clf', clf)\n",
    "    ])\n",
    "    \n",
    "    scores = cross_val_score(pipeline, X_train, y_train, cv=10, scoring='roc_auc', n_jobs=-1)\n",
    "    print(f\"Mean cross_val_score {clf}: {np.mean(scores)}\")"
   ]
  },
  {
   "cell_type": "markdown",
   "metadata": {},
   "source": [
    "**From the three models Gradient Boosting Classifier has highest scores. Within Gradient Boosting there is not much difference in scores regarding scaling of data. Therefore we continue without scaling the data.**"
   ]
  },
  {
   "cell_type": "code",
   "execution_count": 265,
   "metadata": {},
   "outputs": [
    {
     "name": "stdout",
     "output_type": "stream",
     "text": [
      "Wall time: 39min 18s\n"
     ]
    },
    {
     "data": {
      "text/plain": [
       "GridSearchCV(estimator=GradientBoostingClassifier(),\n",
       "             param_grid={'learning_rate': [0.01, 0.3],\n",
       "                         'loss': ['deviance', 'exponential'],\n",
       "                         'n_estimators': [80, 100, 120], 'random_state': [28]},\n",
       "             scoring='roc_auc')"
      ]
     },
     "execution_count": 265,
     "metadata": {},
     "output_type": "execute_result"
    }
   ],
   "source": [
    "%%time\n",
    "random_state = 2\n",
    "\n",
    "parameters = {\n",
    "    'loss': ['deviance', 'exponential'],\n",
    "    'learning_rate': [0.01, 0.3],\n",
    "    'n_estimators': [80, 100, 120],\n",
    "    'random_state': [random_state]\n",
    "}\n",
    "\n",
    "cv = GridSearchCV(estimator = GradientBoostingClassifier(), param_grid=parameters, scoring='roc_auc')\n",
    "cv.fit(X_train, y_train)"
   ]
  },
  {
   "cell_type": "code",
   "execution_count": 266,
   "metadata": {},
   "outputs": [
    {
     "data": {
      "text/plain": [
       "0.7713277167289349"
      ]
     },
     "execution_count": 266,
     "metadata": {},
     "output_type": "execute_result"
    }
   ],
   "source": [
    "# Getting best score\n",
    "cv.best_score_"
   ]
  },
  {
   "cell_type": "code",
   "execution_count": 267,
   "metadata": {},
   "outputs": [
    {
     "data": {
      "text/plain": [
       "{'learning_rate': 0.3,\n",
       " 'loss': 'exponential',\n",
       " 'n_estimators': 100,\n",
       " 'random_state': 28}"
      ]
     },
     "execution_count": 267,
     "metadata": {},
     "output_type": "execute_result"
    }
   ],
   "source": [
    "# Printing best parameters\n",
    "cv.best_params_"
   ]
  },
  {
   "cell_type": "code",
   "execution_count": 329,
   "metadata": {},
   "outputs": [
    {
     "data": {
      "text/plain": [
       "GradientBoostingClassifier(learning_rate=0.3, loss='exponential',\n",
       "                           random_state=28)"
      ]
     },
     "execution_count": 329,
     "metadata": {},
     "output_type": "execute_result"
    }
   ],
   "source": [
    "GB_best = cv.best_estimator_\n",
    "GB_best"
   ]
  },
  {
   "cell_type": "code",
   "execution_count": 40,
   "metadata": {},
   "outputs": [
    {
     "data": {
      "text/plain": [
       "GradientBoostingClassifier(learning_rate=0.3, loss='exponential',\n",
       "                           random_state=28)"
      ]
     },
     "execution_count": 40,
     "metadata": {},
     "output_type": "execute_result"
    }
   ],
   "source": [
    "GB_best = GradientBoostingClassifier(learning_rate=0.3, loss='exponential', random_state=28)\n",
    "GB_best.fit(X_train, y_train)"
   ]
  },
  {
   "cell_type": "markdown",
   "metadata": {},
   "source": [
    "**Feature importances**"
   ]
  },
  {
   "cell_type": "code",
   "execution_count": 147,
   "metadata": {},
   "outputs": [
    {
     "data": {
      "image/png": "[encoded data removed]",
      "text/plain": [
       "<Figure size 432x288 with 1 Axes>"
      ]
     },
     "metadata": {
      "needs_background": "light"
     },
     "output_type": "display_data"
    }
   ],
   "source": [
    "# Analyzing the most important features of the model\n",
    "feature_importances = pd.DataFrame({'feature_importance':GB_best.feature_importances_}, index=X_train.columns)\n",
    "feature_importances.sort_values(by=['feature_importance'], ascending=True).tail(10).plot(kind='barh');"
   ]
  },
  {
   "cell_type": "code",
   "execution_count": 159,
   "metadata": {},
   "outputs": [
    {
     "data": {
      "image/png": "[encoded data removed]",
      "text/plain": [
       "<Figure size 1152x324 with 2 Axes>"
      ]
     },
     "metadata": {
      "needs_background": "light"
     },
     "output_type": "display_data"
    }
   ],
   "source": [
    "# Analyzing the most important feature of the model: 'D19_SOZIALES'\n",
    "mailout_resp_0 = mailout_train[mailout_train['RESPONSE']==0]['D19_SOZIALES'].value_counts(normalize=True).sort_index()\n",
    "mailout_resp_1 = mailout_train[mailout_train['RESPONSE']==1]['D19_SOZIALES'].value_counts(normalize=True).sort_index()\n",
    "\n",
    "# Plotting distribution for Response 0 and 1\n",
    "fig = plt.figure(figsize=(16, 4.5))\n",
    "ax1 = plt.subplot(1,2,1);\n",
    "ax1.bar(mailout_resp_0.index, mailout_resp_0*100);\n",
    "ax1.set_title('Distribution of D19_SOZIALES: Response 0', fontsize=14);\n",
    "ax1.set_ylim(0,100)\n",
    "ax1.set_xlabel('value', fontsize=12, weight='bold')\n",
    "ax1.set_ylabel('Percentage [%]', fontsize=12, weight='bold')\n",
    "ax2 = plt.subplot(1,2,2);\n",
    "ax2.bar(mailout_resp_1.index, mailout_resp_1*100);\n",
    "ax2.set_title('Distribution of D19_SOZIALES: Response 1', fontsize=14);\n",
    "ax2.set_ylim(0,100)\n",
    "ax2.set_xlabel('value', fontsize=12, weight='bold')\n",
    "ax2.set_ylabel('Percentage [%]', fontsize=12, weight='bold');"
   ]
  },
  {
   "cell_type": "markdown",
   "metadata": {},
   "source": [
    "## Part 3: Kaggle Competition\n",
    "\n",
    "Now that you've created a model to predict which individuals are most likely to respond to a mailout campaign, it's time to test that model in competition through Kaggle. If you click on the link [here](http://www.kaggle.com/t/21e6d45d4c574c7fa2d868f0e8c83140), you'll be taken to the competition page where, if you have a Kaggle account, you can enter.\n",
    "\n",
    "Your entry to the competition should be a CSV file with two columns. The first column should be a copy of \"LNR\", which acts as an ID number for each individual in the \"TEST\" partition. The second column, \"RESPONSE\", should be some measure of how likely each individual became a customer – this might not be a straightforward probability. As you should have found in Part 2, there is a large output class imbalance, where most individuals did not respond to the mailout. Thus, predicting individual classes and using accuracy does not seem to be an appropriate performance evaluation method. Instead, the competition will be using AUC to evaluate performance. The exact values of the \"RESPONSE\" column do not matter as much: only that the higher values try to capture as many of the actual customers as possible, early in the ROC curve sweep."
   ]
  },
  {
   "cell_type": "code",
   "execution_count": 46,
   "metadata": {},
   "outputs": [
    {
     "data": {
      "text/plain": [
       "(42833, 366)"
      ]
     },
     "execution_count": 46,
     "metadata": {},
     "output_type": "execute_result"
    }
   ],
   "source": [
    "# Reading test data from pickle files\n",
    "mailout_test = pd.read_pickle(\"./data/mailout_test.pkl\")\n",
    "mailout_test.shape"
   ]
  },
  {
   "cell_type": "code",
   "execution_count": 47,
   "metadata": {},
   "outputs": [
    {
     "data": {
      "text/plain": [
       "(42833, 295)"
      ]
     },
     "execution_count": 47,
     "metadata": {},
     "output_type": "execute_result"
    }
   ],
   "source": [
    "# Cleaning test data and selecting same columns like in training data\n",
    "X_test, X_test_nan = cleaning_data(mailout_test, test_data=True)\n",
    "X_test = X_test.loc[:,X_train.columns.to_list()]\n",
    "X_test.shape"
   ]
  },
  {
   "cell_type": "code",
   "execution_count": 48,
   "metadata": {},
   "outputs": [],
   "source": [
    "# Predicting response probability\n",
    "y_pred = GB_best.predict_proba(X_test)"
   ]
  },
  {
   "cell_type": "code",
   "execution_count": 49,
   "metadata": {},
   "outputs": [
    {
     "data": {
      "text/html": [
       "<div>\n",
       "<style scoped>\n",
       "    .dataframe tbody tr th:only-of-type {\n",
       "        vertical-align: middle;\n",
       "    }\n",
       "\n",
       "    .dataframe tbody tr th {\n",
       "        vertical-align: top;\n",
       "    }\n",
       "\n",
       "    .dataframe thead th {\n",
       "        text-align: right;\n",
       "    }\n",
       "</style>\n",
       "<table border=\"1\" class=\"dataframe\">\n",
       "  <thead>\n",
       "    <tr style=\"text-align: right;\">\n",
       "      <th></th>\n",
       "      <th>RESPONSE</th>\n",
       "    </tr>\n",
       "    <tr>\n",
       "      <th>LNR</th>\n",
       "      <th></th>\n",
       "    </tr>\n",
       "  </thead>\n",
       "  <tbody>\n",
       "    <tr>\n",
       "      <th>1754</th>\n",
       "      <td>0.940264</td>\n",
       "    </tr>\n",
       "    <tr>\n",
       "      <th>1770</th>\n",
       "      <td>0.985112</td>\n",
       "    </tr>\n",
       "    <tr>\n",
       "      <th>1465</th>\n",
       "      <td>0.999749</td>\n",
       "    </tr>\n",
       "    <tr>\n",
       "      <th>1470</th>\n",
       "      <td>0.998843</td>\n",
       "    </tr>\n",
       "    <tr>\n",
       "      <th>1478</th>\n",
       "      <td>0.999006</td>\n",
       "    </tr>\n",
       "    <tr>\n",
       "      <th>...</th>\n",
       "      <td>...</td>\n",
       "    </tr>\n",
       "    <tr>\n",
       "      <th>67615</th>\n",
       "      <td>0.999407</td>\n",
       "    </tr>\n",
       "    <tr>\n",
       "      <th>67938</th>\n",
       "      <td>0.999207</td>\n",
       "    </tr>\n",
       "    <tr>\n",
       "      <th>67942</th>\n",
       "      <td>0.990507</td>\n",
       "    </tr>\n",
       "    <tr>\n",
       "      <th>67949</th>\n",
       "      <td>0.992928</td>\n",
       "    </tr>\n",
       "    <tr>\n",
       "      <th>68898</th>\n",
       "      <td>0.978966</td>\n",
       "    </tr>\n",
       "  </tbody>\n",
       "</table>\n",
       "<p>42833 rows × 1 columns</p>\n",
       "</div>"
      ],
      "text/plain": [
       "       RESPONSE\n",
       "LNR            \n",
       "1754   0.940264\n",
       "1770   0.985112\n",
       "1465   0.999749\n",
       "1470   0.998843\n",
       "1478   0.999006\n",
       "...         ...\n",
       "67615  0.999407\n",
       "67938  0.999207\n",
       "67942  0.990507\n",
       "67949  0.992928\n",
       "68898  0.978966\n",
       "\n",
       "[42833 rows x 1 columns]"
      ]
     },
     "execution_count": 49,
     "metadata": {},
     "output_type": "execute_result"
    }
   ],
   "source": [
    "# Creating Response DataFrame\n",
    "kaggle = pd.DataFrame(index=mailout_test['LNR'], data=y_pred[:,0])\n",
    "kaggle.rename(columns={0: \"RESPONSE\"}, inplace=True)\n",
    "kaggle"
   ]
  },
  {
   "cell_type": "code",
   "execution_count": 50,
   "metadata": {},
   "outputs": [],
   "source": [
    "# Saving results to CSV file for Kaggle submission\n",
    "kaggle.to_csv('./data/kaggle_sub.csv')"
   ]
  },
  {
   "cell_type": "code",
   "execution_count": null,
   "metadata": {},
   "outputs": [],
   "source": []
  }
 ],
 "metadata": {
  "kernelspec": {
   "display_name": "Python 3",
   "language": "python",
   "name": "python3"
  },
  "language_info": {
   "codemirror_mode": {
    "name": "ipython",
    "version": 3
   },
   "file_extension": ".py",
   "mimetype": "text/x-python",
   "name": "python",
   "nbconvert_exporter": "python",
   "pygments_lexer": "ipython3",
   "version": "3.8.8"
  }
 },
 "nbformat": 4,
 "nbformat_minor": 2
}
